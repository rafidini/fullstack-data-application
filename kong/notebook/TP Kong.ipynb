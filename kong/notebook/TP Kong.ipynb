{
 "cells": [
  {
   "cell_type": "code",
   "execution_count": 8,
   "metadata": {},
   "outputs": [],
   "source": [
    "# TP Kong"
   ]
  },
  {
   "cell_type": "markdown",
   "metadata": {},
   "source": [
    "Pour ce TP, nous allons utiliser une API assez simple et ouverte du gouvernement qui permet de récupérer tous les jours feriés.\n",
    "\n",
    "Pour les besoins du TP vous pourrez réaliser vos requêtes HTTP via Curl de la manière suivante:"
   ]
  },
  {
   "cell_type": "code",
   "execution_count": 1,
   "metadata": {},
   "outputs": [
    {
     "name": "stdout",
     "output_type": "stream",
     "text": [
      "{\"2025-01-01\": \"1er janvier\", \"2025-04-21\": \"Lundi de Pâques\", \"2025-05-01\": \"1er mai\", \"2025-05-08\": \"8 mai\", \"2025-05-29\": \"Ascension\", \"2025-06-09\": \"Lundi de Pentecôte\", \"2025-07-14\": \"14 juillet\", \"2025-08-15\": \"Assomption\", \"2025-11-01\": \"Toussaint\", \"2025-11-11\": \"11 novembre\", \"2025-12-25\": \"Jour de Noël\", \"2024-01-01\": \"1er janvier\", \"2024-04-01\": \"Lundi de Pâques\", \"2024-05-01\": \"1er mai\", \"2024-05-08\": \"8 mai\", \"2024-05-09\": \"Ascension\", \"2024-05-20\": \"Lundi de Pentecôte\", \"2024-07-14\": \"14 juillet\", \"2024-08-15\": \"Assomption\", \"2024-11-01\": \"Toussaint\", \"2024-11-11\": \"11 novembre\", \"2024-12-25\": \"Jour de Noël\", \"2023-01-01\": \"1er janvier\", \"2023-04-10\": \"Lundi de Pâques\", \"2023-05-01\": \"1er mai\", \"2023-05-08\": \"8 mai\", \"2023-05-18\": \"Ascension\", \"2023-05-29\": \"Lundi de Pentecôte\", \"2023-07-14\": \"14 juillet\", \"2023-08-15\": \"Assomption\", \"2023-11-01\": \"Toussaint\", \"2023-11-11\": \"11 novembre\", \"2023-12-25\": \"Jour de Noël\", \"2022-01-01\": \"1er janvier\", \"2022-04-18\": \"Lundi de Pâques\", \"2022-05-01\": \"1er mai\", \"2022-05-08\": \"8 mai\", \"2022-05-26\": \"Ascension\", \"2022-06-06\": \"Lundi de Pentecôte\", \"2022-07-14\": \"14 juillet\", \"2022-08-15\": \"Assomption\", \"2022-11-01\": \"Toussaint\", \"2022-11-11\": \"11 novembre\", \"2022-12-25\": \"Jour de Noël\", \"2021-01-01\": \"1er janvier\", \"2021-04-05\": \"Lundi de Pâques\", \"2021-05-01\": \"1er mai\", \"2021-05-08\": \"8 mai\", \"2021-05-13\": \"Ascension\", \"2021-05-24\": \"Lundi de Pentecôte\", \"2021-07-14\": \"14 juillet\", \"2021-08-15\": \"Assomption\", \"2021-11-01\": \"Toussaint\", \"2021-11-11\": \"11 novembre\", \"2021-12-25\": \"Jour de Noël\", \"2020-01-01\": \"1er janvier\", \"2020-04-13\": \"Lundi de Pâques\", \"2020-05-01\": \"1er mai\", \"2020-05-08\": \"8 mai\", \"2020-05-21\": \"Ascension\", \"2020-06-01\": \"Lundi de Pentecôte\", \"2020-07-14\": \"14 juillet\", \"2020-08-15\": \"Assomption\", \"2020-11-01\": \"Toussaint\", \"2020-11-11\": \"11 novembre\", \"2020-12-25\": \"Jour de Noël\", \"2019-01-01\": \"1er janvier\", \"2019-04-22\": \"Lundi de Pâques\", \"2019-05-01\": \"1er mai\", \"2019-05-08\": \"8 mai\", \"2019-05-30\": \"Ascension\", \"2019-06-10\": \"Lundi de Pentecôte\", \"2019-07-14\": \"14 juillet\", \"2019-08-15\": \"Assomption\", \"2019-11-01\": \"Toussaint\", \"2019-11-11\": \"11 novembre\", \"2019-12-25\": \"Jour de Noël\", \"2018-01-01\": \"1er janvier\", \"2018-04-02\": \"Lundi de Pâques\", \"2018-05-01\": \"1er mai\", \"2018-05-08\": \"8 mai\", \"2018-05-10\": \"Ascension\", \"2018-05-21\": \"Lundi de Pentecôte\", \"2018-07-14\": \"14 juillet\", \"2018-08-15\": \"Assomption\", \"2018-11-01\": \"Toussaint\", \"2018-11-11\": \"11 novembre\", \"2018-12-25\": \"Jour de Noël\", \"2017-01-01\": \"1er janvier\", \"2017-04-17\": \"Lundi de Pâques\", \"2017-05-01\": \"1er mai\", \"2017-05-08\": \"8 mai\", \"2017-05-25\": \"Ascension\", \"2017-06-05\": \"Lundi de Pentecôte\", \"2017-07-14\": \"14 juillet\", \"2017-08-15\": \"Assomption\", \"2017-11-01\": \"Toussaint\", \"2017-11-11\": \"11 novembre\", \"2017-12-25\": \"Jour de Noël\", \"2016-01-01\": \"1er janvier\", \"2016-03-28\": \"Lundi de Pâques\", \"2016-05-01\": \"1er mai\", \"2016-05-05\": \"Ascension\", \"2016-05-08\": \"8 mai\", \"2016-05-16\": \"Lundi de Pentecôte\", \"2016-07-14\": \"14 juillet\", \"2016-08-15\": \"Assomption\", \"2016-11-01\": \"Toussaint\", \"2016-11-11\": \"11 novembre\", \"2016-12-25\": \"Jour de Noël\", \"2015-01-01\": \"1er janvier\", \"2015-04-06\": \"Lundi de Pâques\", \"2015-05-01\": \"1er mai\", \"2015-05-08\": \"8 mai\", \"2015-05-14\": \"Ascension\", \"2015-05-25\": \"Lundi de Pentecôte\", \"2015-07-14\": \"14 juillet\", \"2015-08-15\": \"Assomption\", \"2015-11-01\": \"Toussaint\", \"2015-11-11\": \"11 novembre\", \"2015-12-25\": \"Jour de Noël\", \"2014-01-01\": \"1er janvier\", \"2014-04-21\": \"Lundi de Pâques\", \"2014-05-01\": \"1er mai\", \"2014-05-08\": \"8 mai\", \"2014-05-29\": \"Ascension\", \"2014-06-09\": \"Lundi de Pentecôte\", \"2014-07-14\": \"14 juillet\", \"2014-08-15\": \"Assomption\", \"2014-11-01\": \"Toussaint\", \"2014-11-11\": \"11 novembre\", \"2014-12-25\": \"Jour de Noël\", \"2013-01-01\": \"1er janvier\", \"2013-04-01\": \"Lundi de Pâques\", \"2013-05-01\": \"1er mai\", \"2013-05-08\": \"8 mai\", \"2013-05-09\": \"Ascension\", \"2013-05-20\": \"Lundi de Pentecôte\", \"2013-07-14\": \"14 juillet\", \"2013-08-15\": \"Assomption\", \"2013-11-01\": \"Toussaint\", \"2013-11-11\": \"11 novembre\", \"2013-12-25\": \"Jour de Noël\", \"2012-01-01\": \"1er janvier\", \"2012-04-09\": \"Lundi de Pâques\", \"2012-05-01\": \"1er mai\", \"2012-05-08\": \"8 mai\", \"2012-05-17\": \"Ascension\", \"2012-05-28\": \"Lundi de Pentecôte\", \"2012-07-14\": \"14 juillet\", \"2012-08-15\": \"Assomption\", \"2012-11-01\": \"Toussaint\", \"2012-11-11\": \"11 novembre\", \"2012-12-25\": \"Jour de Noël\", \"2011-01-01\": \"1er janvier\", \"2011-04-25\": \"Lundi de Pâques\", \"2011-05-01\": \"1er mai\", \"2011-05-08\": \"8 mai\", \"2011-06-02\": \"Ascension\", \"2011-06-13\": \"Lundi de Pentecôte\", \"2011-07-14\": \"14 juillet\", \"2011-08-15\": \"Assomption\", \"2011-11-01\": \"Toussaint\", \"2011-11-11\": \"11 novembre\", \"2011-12-25\": \"Jour de Noël\", \"2010-01-01\": \"1er janvier\", \"2010-04-05\": \"Lundi de Pâques\", \"2010-05-01\": \"1er mai\", \"2010-05-08\": \"8 mai\", \"2010-05-13\": \"Ascension\", \"2010-05-24\": \"Lundi de Pentecôte\", \"2010-07-14\": \"14 juillet\", \"2010-08-15\": \"Assomption\", \"2010-11-01\": \"Toussaint\", \"2010-11-11\": \"11 novembre\", \"2010-12-25\": \"Jour de Noël\", \"2009-01-01\": \"1er janvier\", \"2009-04-13\": \"Lundi de Pâques\", \"2009-05-01\": \"1er mai\", \"2009-05-08\": \"8 mai\", \"2009-05-21\": \"Ascension\", \"2009-06-01\": \"Lundi de Pentecôte\", \"2009-07-14\": \"14 juillet\", \"2009-08-15\": \"Assomption\", \"2009-11-01\": \"Toussaint\", \"2009-11-11\": \"11 novembre\", \"2009-12-25\": \"Jour de Noël\", \"2008-01-01\": \"1er janvier\", \"2008-03-24\": \"Lundi de Pâques\", \"2008-05-01\": \"Ascension\", \"2008-05-08\": \"8 mai\", \"2008-05-12\": \"Lundi de Pentecôte\", \"2008-07-14\": \"14 juillet\", \"2008-08-15\": \"Assomption\", \"2008-11-01\": \"Toussaint\", \"2008-11-11\": \"11 novembre\", \"2008-12-25\": \"Jour de Noël\", \"2007-01-01\": \"1er janvier\", \"2007-04-09\": \"Lundi de Pâques\", \"2007-05-01\": \"1er mai\", \"2007-05-08\": \"8 mai\", \"2007-05-17\": \"Ascension\", \"2007-05-28\": \"Lundi de Pentecôte\", \"2007-07-14\": \"14 juillet\", \"2007-08-15\": \"Assomption\", \"2007-11-01\": \"Toussaint\", \"2007-11-11\": \"11 novembre\", \"2007-12-25\": \"Jour de Noël\", \"2006-01-01\": \"1er janvier\", \"2006-04-17\": \"Lundi de Pâques\", \"2006-05-01\": \"1er mai\", \"2006-05-08\": \"8 mai\", \"2006-05-25\": \"Ascension\", \"2006-06-05\": \"Lundi de Pentecôte\", \"2006-07-14\": \"14 juillet\", \"2006-08-15\": \"Assomption\", \"2006-11-01\": \"Toussaint\", \"2006-11-11\": \"11 novembre\", \"2006-12-25\": \"Jour de Noël\", \"2005-01-01\": \"1er janvier\", \"2005-03-28\": \"Lundi de Pâques\", \"2005-05-01\": \"1er mai\", \"2005-05-05\": \"Ascension\", \"2005-05-08\": \"8 mai\", \"2005-05-16\": \"Lundi de Pentecôte\", \"2005-07-14\": \"14 juillet\", \"2005-08-15\": \"Assomption\", \"2005-11-01\": \"Toussaint\", \"2005-11-11\": \"11 novembre\", \"2005-12-25\": \"Jour de Noël\", \"2004-01-01\": \"1er janvier\", \"2004-04-12\": \"Lundi de Pâques\", \"2004-05-01\": \"1er mai\", \"2004-05-08\": \"8 mai\", \"2004-05-20\": \"Ascension\", \"2004-05-31\": \"Lundi de Pentecôte\", \"2004-07-14\": \"14 juillet\", \"2004-08-15\": \"Assomption\", \"2004-11-01\": \"Toussaint\", \"2004-11-11\": \"11 novembre\", \"2004-12-25\": \"Jour de Noël\", \"2003-01-01\": \"1er janvier\", \"2003-04-21\": \"Lundi de Pâques\", \"2003-05-01\": \"1er mai\", \"2003-05-08\": \"8 mai\", \"2003-05-29\": \"Ascension\", \"2003-06-09\": \"Lundi de Pentecôte\", \"2003-07-14\": \"14 juillet\", \"2003-08-15\": \"Assomption\", \"2003-11-01\": \"Toussaint\", \"2003-11-11\": \"11 novembre\", \"2003-12-25\": \"Jour de Noël\", \"2002-01-01\": \"1er janvier\", \"2002-04-01\": \"Lundi de Pâques\", \"2002-05-01\": \"1er mai\", \"2002-05-08\": \"8 mai\", \"2002-05-09\": \"Ascension\", \"2002-05-20\": \"Lundi de Pentecôte\", \"2002-07-14\": \"14 juillet\", \"2002-08-15\": \"Assomption\", \"2002-11-01\": \"Toussaint\", \"2002-11-11\": \"11 novembre\", \"2002-12-25\": \"Jour de Noël\", \"2001-01-01\": \"1er janvier\", \"2001-04-16\": \"Lundi de Pâques\", \"2001-05-01\": \"1er mai\", \"2001-05-08\": \"8 mai\", \"2001-05-24\": \"Ascension\", \"2001-06-04\": \"Lundi de Pentecôte\", \"2001-07-14\": \"14 juillet\", \"2001-08-15\": \"Assomption\", \"2001-11-01\": \"Toussaint\", \"2001-11-11\": \"11 novembre\", \"2001-12-25\": \"Jour de Noël\", \"2000-01-01\": \"1er janvier\", \"2000-04-24\": \"Lundi de Pâques\", \"2000-05-01\": \"1er mai\", \"2000-05-08\": \"8 mai\", \"2000-06-01\": \"Ascension\", \"2000-06-12\": \"Lundi de Pentecôte\", \"2000-07-14\": \"14 juillet\", \"2000-08-15\": \"Assomption\", \"2000-11-01\": \"Toussaint\", \"2000-11-11\": \"11 novembre\", \"2000-12-25\": \"Jour de Noël\"}"
     ]
    }
   ],
   "source": [
    "!curl -X 'GET' \\\n",
    "  'https://calendrier.api.gouv.fr/jours-feries/metropole.json' \\\n",
    "  -H 'accept: application/json'"
   ]
  },
  {
   "cell_type": "markdown",
   "metadata": {},
   "source": [
    "ou via le package python requests comme ceci : "
   ]
  },
  {
   "cell_type": "code",
   "execution_count": null,
   "metadata": {},
   "outputs": [],
   "source": [
    "import requests\n",
    "\n",
    "headers = {\n",
    "    'accept': 'application/json',\n",
    "}\n",
    "\n",
    "response = requests.get('https://calendrier.api.gouv.fr/jours-feries/metropole.json', headers=headers)\n",
    "response.json()"
   ]
  },
  {
   "cell_type": "markdown",
   "metadata": {},
   "source": [
    "## Configurer le service et la route "
   ]
  },
  {
   "cell_type": "markdown",
   "metadata": {},
   "source": [
    "### Le service "
   ]
  },
  {
   "cell_type": "markdown",
   "metadata": {},
   "source": [
    "#### Curl "
   ]
  },
  {
   "cell_type": "code",
   "execution_count": 3,
   "metadata": {},
   "outputs": [
    {
     "name": "stdout",
     "output_type": "stream",
     "text": [
      "curl: (7) Failed to connect to localhost port 8001: Connection refused\n"
     ]
    }
   ],
   "source": [
    "!curl -i -X POST \\\n",
    "  --url http://localhost:8001/services/ \\\n",
    "  --data 'name=jours-feries' \\\n",
    "  --data 'url=https://calendrier.api.gouv.fr'"
   ]
  },
  {
   "cell_type": "markdown",
   "metadata": {},
   "source": [
    "#### Requests "
   ]
  },
  {
   "cell_type": "code",
   "execution_count": 84,
   "metadata": {},
   "outputs": [],
   "source": [
    "import requests\n",
    "\n",
    "data = {\n",
    "  'name': 'jours-feries',\n",
    "  'url': 'https://calendrier.api.gouv.fr'\n",
    "}\n",
    "\n",
    "response = requests.post('http://localhost:8001/services/', data=data)"
   ]
  },
  {
   "cell_type": "markdown",
   "metadata": {},
   "source": [
    "### Une route"
   ]
  },
  {
   "cell_type": "markdown",
   "metadata": {},
   "source": [
    "#### Curl "
   ]
  },
  {
   "cell_type": "code",
   "execution_count": 85,
   "metadata": {},
   "outputs": [
    {
     "name": "stdout",
     "output_type": "stream",
     "text": [
      "HTTP/1.1 201 Created\r\n",
      "\r\n",
      "\u001b[1mDate\u001b[0m: Wed, 01 Sep 2021 09:57:14 GMT\r\n",
      "\r\n",
      "\u001b[1mContent-Type\u001b[0m: application/json; charset=utf-8\r\n",
      "\r\n",
      "\u001b[1mConnection\u001b[0m: keep-alive\r\n",
      "\r\n",
      "\u001b[1mAccess-Control-Allow-Origin\u001b[0m: *\r\n",
      "\r\n",
      "\u001b[1mContent-Length\u001b[0m: 491\r\n",
      "\r\n",
      "\u001b[1mX-Kong-Admin-Latency\u001b[0m: 146\r\n",
      "\r\n",
      "\u001b[1mServer\u001b[0m: kong/2.3.0\r\n",
      "\r\n",
      "\r\n",
      "\r\n",
      "{\"id\":\"13250fdf-d9d8-4a3e-bfcb-2eb046c507dd\",\"tags\":null,\"paths\":null,\"destinations\":null,\"headers\":null,\"protocols\":[\"http\",\"https\"],\"strip_path\":true,\"created_at\":1630490234,\"request_buffering\":true,\"hosts\":[\"calendrier.api.gouv.fr\"],\"name\":null,\"updated_at\":1630490234,\"snis\":null,\"preserve_host\":false,\"regex_priority\":0,\"methods\":null,\"sources\":null,\"response_buffering\":true,\"https_redirect_status_code\":426,\"path_handling\":\"v0\",\"service\":{\"id\":\"ce6941e8-f461-4e3b-bdc3-843b5ab3030c\"}}"
     ]
    }
   ],
   "source": [
    "!curl -i -X POST \\\n",
    "  --url http://localhost:8001/services/jours-feries/routes \\\n",
    "  --data 'hosts[]=calendrier.api.gouv.fr'"
   ]
  },
  {
   "cell_type": "markdown",
   "metadata": {},
   "source": [
    "#### Requests "
   ]
  },
  {
   "cell_type": "code",
   "execution_count": 86,
   "metadata": {},
   "outputs": [],
   "source": [
    "import requests\n",
    "\n",
    "data = {\n",
    "  'hosts[]': 'calendrier.api.gouv.fr'\n",
    "}\n",
    "\n",
    "response = requests.post('http://localhost:8001/services/jours-feries/routes', data=data)\n"
   ]
  },
  {
   "cell_type": "markdown",
   "metadata": {},
   "source": [
    "### Récupérer les données via notre Interface Kong"
   ]
  },
  {
   "cell_type": "markdown",
   "metadata": {},
   "source": [
    "#### Curl "
   ]
  },
  {
   "cell_type": "code",
   "execution_count": 87,
   "metadata": {},
   "outputs": [
    {
     "name": "stdout",
     "output_type": "stream",
     "text": [
      "HTTP/1.1 200 OK\r\n",
      "\r\n",
      "\u001b[1mContent-Type\u001b[0m: application/json; charset=utf-8\r\n",
      "\r\n",
      "\u001b[1mContent-Length\u001b[0m: 8243\r\n",
      "\r\n",
      "\u001b[1mConnection\u001b[0m: keep-alive\r\n",
      "\r\n",
      "\u001b[1mServer\u001b[0m: GitHub.com\r\n",
      "\r\n",
      "\u001b[1mLast-Modified\u001b[0m: Thu, 12 Nov 2020 14:33:38 GMT\r\n",
      "\r\n",
      "\u001b[1mAccess-Control-Allow-Origin\u001b[0m: *\r\n",
      "\r\n",
      "\u001b[1mETag\u001b[0m: \"5fad47c2-2033\"\r\n",
      "\r\n",
      "\u001b[1mexpires\u001b[0m: Wed, 01 Sep 2021 08:35:54 GMT\r\n",
      "\r\n",
      "\u001b[1mCache-Control\u001b[0m: max-age=600\r\n",
      "\r\n",
      "\u001b[1mx-proxy-cache\u001b[0m: MISS\r\n",
      "\r\n",
      "\u001b[1mX-GitHub-Request-Id\u001b[0m: 7CEA:10E32:201CEE9:2141D19:612F3912\r\n",
      "\r\n",
      "\u001b[1mAccept-Ranges\u001b[0m: bytes\r\n",
      "\r\n",
      "\u001b[1mDate\u001b[0m: Wed, 01 Sep 2021 09:57:16 GMT\r\n",
      "\r\n",
      "\u001b[1mVia\u001b[0m: kong/2.3.0\r\n",
      "\r\n",
      "\u001b[1mAge\u001b[0m: 0\r\n",
      "\r\n",
      "\u001b[1mX-Served-By\u001b[0m: cache-hhn4026-HHN\r\n",
      "\r\n",
      "\u001b[1mX-Cache\u001b[0m: HIT\r\n",
      "\r\n",
      "\u001b[1mX-Cache-Hits\u001b[0m: 1\r\n",
      "\r\n",
      "\u001b[1mX-Timer\u001b[0m: S1630490236.460762,VS0,VE85\r\n",
      "\r\n",
      "\u001b[1mVary\u001b[0m: Accept-Encoding\r\n",
      "\r\n",
      "\u001b[1mX-Fastly-Request-ID\u001b[0m: 07e8d2b58532a95e035b48a78a5dd16bf166fe88\r\n",
      "\r\n",
      "\u001b[1mX-Kong-Upstream-Latency\u001b[0m: 157\r\n",
      "\r\n",
      "\u001b[1mX-Kong-Proxy-Latency\u001b[0m: 37\r\n",
      "\r\n",
      "\r\n",
      "\r\n",
      "{\"2025-01-01\": \"1er janvier\", \"2025-04-21\": \"Lundi de Pâques\", \"2025-05-01\": \"1er mai\", \"2025-05-08\": \"8 mai\", \"2025-05-29\": \"Ascension\", \"2025-06-09\": \"Lundi de Pentecôte\", \"2025-07-14\": \"14 juillet\", \"2025-08-15\": \"Assomption\", \"2025-11-01\": \"Toussaint\", \"2025-11-11\": \"11 novembre\", \"2025-12-25\": \"Jour de Noël\", \"2024-01-01\": \"1er janvier\", \"2024-04-01\": \"Lundi de Pâques\", \"2024-05-01\": \"1er mai\", \"2024-05-08\": \"8 mai\", \"2024-05-09\": \"Ascension\", \"2024-05-20\": \"Lundi de Pentecôte\", \"2024-07-14\": \"14 juillet\", \"2024-08-15\": \"Assomption\", \"2024-11-01\": \"Toussaint\", \"2024-11-11\": \"11 novembre\", \"2024-12-25\": \"Jour de Noël\", \"2023-01-01\": \"1er janvier\", \"2023-04-10\": \"Lundi de Pâques\", \"2023-05-01\": \"1er mai\", \"2023-05-08\": \"8 mai\", \"2023-05-18\": \"Ascension\", \"2023-05-29\": \"Lundi de Pentecôte\", \"2023-07-14\": \"14 juillet\", \"2023-08-15\": \"Assomption\", \"2023-11-01\": \"Toussaint\", \"2023-11-11\": \"11 novembre\", \"2023-12-25\": \"Jour de Noël\", \"2022-01-01\": \"1er janvier\", \"2022-04-18\": \"Lundi de Pâques\", \"2022-05-01\": \"1er mai\", \"2022-05-08\": \"8 mai\", \"2022-05-26\": \"Ascension\", \"2022-06-06\": \"Lundi de Pentecôte\", \"2022-07-14\": \"14 juillet\", \"2022-08-15\": \"Assomption\", \"2022-11-01\": \"Toussaint\", \"2022-11-11\": \"11 novembre\", \"2022-12-25\": \"Jour de Noël\", \"2021-01-01\": \"1er janvier\", \"2021-04-05\": \"Lundi de Pâques\", \"2021-05-01\": \"1er mai\", \"2021-05-08\": \"8 mai\", \"2021-05-13\": \"Ascension\", \"2021-05-24\": \"Lundi de Pentecôte\", \"2021-07-14\": \"14 juillet\", \"2021-08-15\": \"Assomption\", \"2021-11-01\": \"Toussaint\", \"2021-11-11\": \"11 novembre\", \"2021-12-25\": \"Jour de Noël\", \"2020-01-01\": \"1er janvier\", \"2020-04-13\": \"Lundi de Pâques\", \"2020-05-01\": \"1er mai\", \"2020-05-08\": \"8 mai\", \"2020-05-21\": \"Ascension\", \"2020-06-01\": \"Lundi de Pentecôte\", \"2020-07-14\": \"14 juillet\", \"2020-08-15\": \"Assomption\", \"2020-11-01\": \"Toussaint\", \"2020-11-11\": \"11 novembre\", \"2020-12-25\": \"Jour de Noël\", \"2019-01-01\": \"1er janvier\", \"2019-04-22\": \"Lundi de Pâques\", \"2019-05-01\": \"1er mai\", \"2019-05-08\": \"8 mai\", \"2019-05-30\": \"Ascension\", \"2019-06-10\": \"Lundi de Pentecôte\", \"2019-07-14\": \"14 juillet\", \"2019-08-15\": \"Assomption\", \"2019-11-01\": \"Toussaint\", \"2019-11-11\": \"11 novembre\", \"2019-12-25\": \"Jour de Noël\", \"2018-01-01\": \"1er janvier\", \"2018-04-02\": \"Lundi de Pâques\", \"2018-05-01\": \"1er mai\", \"2018-05-08\": \"8 mai\", \"2018-05-10\": \"Ascension\", \"2018-05-21\": \"Lundi de Pentecôte\", \"2018-07-14\": \"14 juillet\", \"2018-08-15\": \"Assomption\", \"2018-11-01\": \"Toussaint\", \"2018-11-11\": \"11 novembre\", \"2018-12-25\": \"Jour de Noël\", \"2017-01-01\": \"1er janvier\", \"2017-04-17\": \"Lundi de Pâques\", \"2017-05-01\": \"1er mai\", \"2017-05-08\": \"8 mai\", \"2017-05-25\": \"Ascension\", \"2017-06-05\": \"Lundi de Pentecôte\", \"2017-07-14\": \"14 juillet\", \"2017-08-15\": \"Assomption\", \"2017-11-01\": \"Toussaint\", \"2017-11-11\": \"11 novembre\", \"2017-12-25\": \"Jour de Noël\", \"2016-01-01\": \"1er janvier\", \"2016-03-28\": \"Lundi de Pâques\", \"2016-05-01\": \"1er mai\", \"2016-05-05\": \"Ascension\", \"2016-05-08\": \"8 mai\", \"2016-05-16\": \"Lundi de Pentecôte\", \"2016-07-14\": \"14 juillet\", \"2016-08-15\": \"Assomption\", \"2016-11-01\": \"Toussaint\", \"2016-11-11\": \"11 novembre\", \"2016-12-25\": \"Jour de Noël\", \"2015-01-01\": \"1er janvier\", \"2015-04-06\": \"Lundi de Pâques\", \"2015-05-01\": \"1er mai\", \"2015-05-08\": \"8 mai\", \"2015-05-14\": \"Ascension\", \"2015-05-25\": \"Lundi de Pentecôte\", \"2015-07-14\": \"14 juillet\", \"2015-08-15\": \"Assomption\", \"2015-11-01\": \"Toussaint\", \"2015-11-11\": \"11 novembre\", \"2015-12-25\": \"Jour de Noël\", \"2014-01-01\": \"1er janvier\", \"2014-04-21\": \"Lundi de Pâques\", \"2014-05-01\": \"1er mai\", \"2014-05-08\": \"8 mai\", \"2014-05-29\": \"Ascension\", \"2014-06-09\": \"Lundi de Pentecôte\", \"2014-07-14\": \"14 juillet\", \"2014-08-15\": \"Assomption\", \"2014-11-01\": \"Toussaint\", \"2014-11-11\": \"11 novembre\", \"2014-12-25\": \"Jour de Noël\", \"2013-01-01\": \"1er janvier\", \"2013-04-01\": \"Lundi de Pâques\", \"2013-05-01\": \"1er mai\", \"2013-05-08\": \"8 mai\", \"2013-05-09\": \"Ascension\", \"2013-05-20\": \"Lundi de Pentecôte\", \"2013-07-14\": \"14 juillet\", \"2013-08-15\": \"Assomption\", \"2013-11-01\": \"Toussaint\", \"2013-11-11\": \"11 novembre\", \"2013-12-25\": \"Jour de Noël\", \"2012-01-01\": \"1er janvier\", \"2012-04-09\": \"Lundi de Pâques\", \"2012-05-01\": \"1er mai\", \"2012-05-08\": \"8 mai\", \"2012-05-17\": \"Ascension\", \"2012-05-28\": \"Lundi de Pentecôte\", \"2012-07-14\": \"14 juillet\", \"2012-08-15\": \"Assomption\", \"2012-11-01\": \"Toussaint\", \"2012-11-11\": \"11 novembre\", \"2012-12-25\": \"Jour de Noël\", \"2011-01-01\": \"1er janvier\", \"2011-04-25\": \"Lundi de Pâques\", \"2011-05-01\": \"1er mai\", \"2011-05-08\": \"8 mai\", \"2011-06-02\": \"Ascension\", \"2011-06-13\": \"Lundi de Pentecôte\", \"2011-07-14\": \"14 juillet\", \"2011-08-15\": \"Assomption\", \"2011-11-01\": \"Toussaint\", \"2011-11-11\": \"11 novembre\", \"2011-12-25\": \"Jour de Noël\", \"2010-01-01\": \"1er janvier\", \"2010-04-05\": \"Lundi de Pâques\", \"2010-05-01\": \"1er mai\", \"2010-05-08\": \"8 mai\", \"2010-05-13\": \"Ascension\", \"2010-05-24\": \"Lundi de Pentecôte\", \"2010-07-14\": \"14 juillet\", \"2010-08-15\": \"Assomption\", \"2010-11-01\": \"Toussaint\", \"2010-11-11\": \"11 novembre\", \"2010-12-25\": \"Jour de Noël\", \"2009-01-01\": \"1er janvier\", \"2009-04-13\": \"Lundi de Pâques\", \"2009-05-01\": \"1er mai\", \"2009-05-08\": \"8 mai\", \"2009-05-21\": \"Ascension\", \"2009-06-01\": \"Lundi de Pentecôte\", \"2009-07-14\": \"14 juillet\", \"2009-08-15\": \"Assomption\", \"2009-11-01\": \"Toussaint\", \"2009-11-11\": \"11 novembre\", \"2009-12-25\": \"Jour de Noël\", \"2008-01-01\": \"1er janvier\", \"2008-03-24\": \"Lundi de Pâques\", \"2008-05-01\": \"Ascension\", \"2008-05-08\": \"8 mai\", \"2008-05-12\": \"Lundi de Pentecôte\", \"2008-07-14\": \"14 juillet\", \"2008-08-15\": \"Assomption\", \"2008-11-01\": \"Toussaint\", \"2008-11-11\": \"11 novembre\", \"2008-12-25\": \"Jour de Noël\", \"2007-01-01\": \"1er janvier\", \"2007-04-09\": \"Lundi de Pâques\", \"2007-05-01\": \"1er mai\", \"2007-05-08\": \"8 mai\", \"2007-05-17\": \"Ascension\", \"2007-05-28\": \"Lundi de Pentecôte\", \"2007-07-14\": \"14 juillet\", \"2007-08-15\": \"Assomption\", \"2007-11-01\": \"Toussaint\", \"2007-11-11\": \"11 novembre\", \"2007-12-25\": \"Jour de Noël\", \"2006-01-01\": \"1er janvier\", \"2006-04-17\": \"Lundi de Pâques\", \"2006-05-01\": \"1er mai\", \"2006-05-08\": \"8 mai\", \"2006-05-25\": \"Ascension\", \"2006-06-05\": \"Lundi de Pentecôte\", \"2006-07-14\": \"14 juillet\", \"2006-08-15\": \"Assomption\", \"2006-11-01\": \"Toussaint\", \"2006-11-11\": \"11 novembre\", \"2006-12-25\": \"Jour de Noël\", \"2005-01-01\": \"1er janvier\", \"2005-03-28\": \"Lundi de Pâques\", \"2005-05-01\": \"1er mai\", \"2005-05-05\": \"Ascension\", \"2005-05-08\": \"8 mai\", \"2005-05-16\": \"Lundi de Pentecôte\", \"2005-07-14\": \"14 juillet\", \"2005-08-15\": \"Assomption\", \"2005-11-01\": \"Toussaint\", \"2005-11-11\": \"11 novembre\", \"2005-12-25\": \"Jour de Noël\", \"2004-01-01\": \"1er janvier\", \"2004-04-12\": \"Lundi de Pâques\", \"2004-05-01\": \"1er mai\", \"2004-05-08\": \"8 mai\", \"2004-05-20\": \"Ascension\", \"2004-05-31\": \"Lundi de Pentecôte\", \"2004-07-14\": \"14 juillet\", \"2004-08-15\": \"Assomption\", \"2004-11-01\": \"Toussaint\", \"2004-11-11\": \"11 novembre\", \"2004-12-25\": \"Jour de Noël\", \"2003-01-01\": \"1er janvier\", \"2003-04-21\": \"Lundi de Pâques\", \"2003-05-01\": \"1er mai\", \"2003-05-08\": \"8 mai\", \"2003-05-29\": \"Ascension\", \"2003-06-09\": \"Lundi de Pentecôte\", \"2003-07-14\": \"14 juillet\", \"2003-08-15\": \"Assomption\", \"2003-11-01\": \"Toussaint\", \"2003-11-11\": \"11 novembre\", \"2003-12-25\": \"Jour de Noël\", \"2002-01-01\": \"1er janvier\", \"2002-04-01\": \"Lundi de Pâques\", \"2002-05-01\": \"1er mai\", \"2002-05-08\": \"8 mai\", \"2002-05-09\": \"Ascension\", \"2002-05-20\": \"Lundi de Pentecôte\", \"2002-07-14\": \"14 juillet\", \"2002-08-15\": \"Assomption\", \"2002-11-01\": \"Toussaint\", \"2002-11-11\": \"11 novembre\", \"2002-12-25\": \"Jour de Noël\", \"2001-01-01\": \"1er janvier\", \"2001-04-16\": \"Lundi de Pâques\", \"2001-05-01\": \"1er mai\", \"2001-05-08\": \"8 mai\", \"2001-05-24\": \"Ascension\", \"2001-06-04\": \"Lundi de Pentecôte\", \"2001-07-14\": \"14 juillet\", \"2001-08-15\": \"Assomption\", \"2001-11-01\": \"Toussaint\", \"2001-11-11\": \"11 novembre\", \"2001-12-25\": \"Jour de Noël\", \"2000-01-01\": \"1er janvier\", \"2000-04-24\": \"Lundi de Pâques\", \"2000-05-01\": \"1er mai\", \"2000-05-08\": \"8 mai\", \"2000-06-01\": \"Ascension\", \"2000-06-12\": \"Lundi de Pentecôte\", \"2000-07-14\": \"14 juillet\", \"2000-08-15\": \"Assomption\", \"2000-11-01\": \"Toussaint\", \"2000-11-11\": \"11 novembre\", \"2000-12-25\": \"Jour de Noël\"}"
     ]
    }
   ],
   "source": [
    "!curl -i -X GET \\\n",
    "  --url http://localhost:8000/jours-feries/metropole.json \\\n",
    "  --header 'Host: calendrier.api.gouv.fr'"
   ]
  },
  {
   "cell_type": "markdown",
   "metadata": {},
   "source": [
    "#### Requests "
   ]
  },
  {
   "cell_type": "code",
   "execution_count": 88,
   "metadata": {},
   "outputs": [],
   "source": [
    "import requests\n",
    "\n",
    "headers = {\n",
    "    'Host': 'calendrier.api.gouv.fr',\n",
    "}\n",
    "\n",
    "response = requests.get('http://localhost:8000/jours-feries/metropole.json', headers=headers)\n"
   ]
  },
  {
   "cell_type": "markdown",
   "metadata": {},
   "source": [
    "## Sécuriser via API Key "
   ]
  },
  {
   "cell_type": "markdown",
   "metadata": {},
   "source": [
    "https://docs.konghq.com/hub/kong-inc/key-auth/"
   ]
  },
  {
   "cell_type": "markdown",
   "metadata": {},
   "source": [
    "### Créer un consumer"
   ]
  },
  {
   "cell_type": "markdown",
   "metadata": {},
   "source": [
    "#### Curl "
   ]
  },
  {
   "cell_type": "code",
   "execution_count": 89,
   "metadata": {},
   "outputs": [
    {
     "name": "stdout",
     "output_type": "stream",
     "text": [
      "{\"custom_id\":null,\"created_at\":1630490238,\"id\":\"2ede6746-ff1a-4f77-8e86-3d828e029128\",\"tags\":null,\"username\":\"esieeparis\"}"
     ]
    }
   ],
   "source": [
    "!curl -XPOST  -d  \"username=esieeparis\" http://localhost:8001/consumers/\n"
   ]
  },
  {
   "cell_type": "markdown",
   "metadata": {},
   "source": [
    "#### Requests "
   ]
  },
  {
   "cell_type": "code",
   "execution_count": 90,
   "metadata": {},
   "outputs": [],
   "source": [
    "import requests\n",
    "\n",
    "data = {\n",
    "  'username': 'esieeparis'\n",
    "}\n",
    "\n",
    "response = requests.post('http://localhost:8001/consumers/', data=data)"
   ]
  },
  {
   "cell_type": "markdown",
   "metadata": {},
   "source": [
    "#### Curl "
   ]
  },
  {
   "cell_type": "code",
   "execution_count": 92,
   "metadata": {},
   "outputs": [
    {
     "name": "stdout",
     "output_type": "stream",
     "text": [
      "{\"created_at\":1630490246,\"id\":\"5a044a45-8091-464b-b0e9-9e67a0d72b48\",\"tags\":null,\"ttl\":null,\"key\":\"Ggp00VFzHIMccKdy58jiC8AjCswS807V\",\"consumer\":{\"id\":\"2ede6746-ff1a-4f77-8e86-3d828e029128\"}}"
     ]
    }
   ],
   "source": [
    "!curl -X POST http://localhost:8001/consumers/esieeparis/key-auth"
   ]
  },
  {
   "cell_type": "code",
   "execution_count": 94,
   "metadata": {},
   "outputs": [],
   "source": [
    "key = \"Ggp00VFzHIMccKdy58jiC8AjCswS807V\""
   ]
  },
  {
   "cell_type": "markdown",
   "metadata": {},
   "source": [
    "#### Requests "
   ]
  },
  {
   "cell_type": "code",
   "execution_count": 96,
   "metadata": {},
   "outputs": [
    {
     "data": {
      "text/plain": [
       "{'created_at': 1630490260,\n",
       " 'id': '17be9921-6063-47b0-b752-9d5b247dd79c',\n",
       " 'tags': None,\n",
       " 'ttl': None,\n",
       " 'key': 'erQAY3ytaNkcaApT20Wu4pithMYZXcyA',\n",
       " 'consumer': {'id': '2ede6746-ff1a-4f77-8e86-3d828e029128'}}"
      ]
     },
     "execution_count": 96,
     "metadata": {},
     "output_type": "execute_result"
    }
   ],
   "source": [
    "import requests\n",
    "\n",
    "response = requests.post('http://localhost:8001/consumers/esieeparis/key-auth')\n",
    "json_data = response.json()\n",
    "json_data"
   ]
  },
  {
   "cell_type": "code",
   "execution_count": 97,
   "metadata": {},
   "outputs": [],
   "source": [
    "key = json_data[\"key\"]"
   ]
  },
  {
   "cell_type": "code",
   "execution_count": 98,
   "metadata": {},
   "outputs": [
    {
     "data": {
      "text/plain": [
       "'erQAY3ytaNkcaApT20Wu4pithMYZXcyA'"
      ]
     },
     "execution_count": 98,
     "metadata": {},
     "output_type": "execute_result"
    }
   ],
   "source": [
    "key"
   ]
  },
  {
   "cell_type": "markdown",
   "metadata": {},
   "source": [
    "### Configurer l'API Key sur la route"
   ]
  },
  {
   "cell_type": "code",
   "execution_count": 99,
   "metadata": {},
   "outputs": [
    {
     "name": "stdout",
     "output_type": "stream",
     "text": [
      "{\"next\":null,\"data\":[{\"host\":\"calendrier.api.gouv.fr\",\"id\":\"ce6941e8-f461-4e3b-bdc3-843b5ab3030c\",\"protocol\":\"https\",\"read_timeout\":60000,\"tls_verify_depth\":null,\"port\":443,\"updated_at\":1630490231,\"ca_certificates\":null,\"created_at\":1630490231,\"connect_timeout\":60000,\"write_timeout\":60000,\"name\":\"jours-feries\",\"retries\":5,\"path\":null,\"tls_verify\":null,\"tags\":null,\"client_certificate\":null}]}"
     ]
    }
   ],
   "source": [
    "!curl -X GET http://localhost:8001/services\n"
   ]
  },
  {
   "cell_type": "code",
   "execution_count": 100,
   "metadata": {},
   "outputs": [],
   "source": [
    "SERVICE_ID = \"ce6941e8-f461-4e3b-bdc3-843b5ab3030c\""
   ]
  },
  {
   "cell_type": "code",
   "execution_count": 101,
   "metadata": {},
   "outputs": [
    {
     "name": "stdout",
     "output_type": "stream",
     "text": [
      "{\"created_at\":1630490288,\"id\":\"ba29cfbc-5f22-4549-8d2b-0ee4864f43e1\",\"tags\":null,\"enabled\":true,\"protocols\":[\"grpc\",\"grpcs\",\"http\",\"https\"],\"name\":\"key-auth\",\"consumer\":null,\"service\":{\"id\":\"ce6941e8-f461-4e3b-bdc3-843b5ab3030c\"},\"route\":null,\"config\":{\"key_in_query\":true,\"key_names\":[\"apikey\"],\"key_in_header\":true,\"run_on_preflight\":true,\"anonymous\":null,\"hide_credentials\":false,\"key_in_body\":false}}"
     ]
    }
   ],
   "source": [
    "!curl -X POST http://localhost:8001/services/ce6941e8-f461-4e3b-bdc3-843b5ab3030c/plugins \\\n",
    "    --data \"name=key-auth\"  \\\n",
    "    --data \"config.key_names=apikey\""
   ]
  },
  {
   "cell_type": "markdown",
   "metadata": {},
   "source": [
    "#### Réaliser la requête avec l'apiKey"
   ]
  },
  {
   "cell_type": "code",
   "execution_count": 102,
   "metadata": {},
   "outputs": [
    {
     "data": {
      "text/plain": [
       "{'message': 'Invalid authentication credentials'}"
      ]
     },
     "execution_count": 102,
     "metadata": {},
     "output_type": "execute_result"
    }
   ],
   "source": [
    "import requests\n",
    "\n",
    "headers = {\n",
    "    'Host': 'calendrier.api.gouv.fr',\n",
    "    'apiKey' : \"a false api key\"\n",
    "}\n",
    "\n",
    "response = requests.get('http://localhost:8000/jours-feries/metropole.json', headers=headers)\n",
    "response.json()"
   ]
  },
  {
   "cell_type": "code",
   "execution_count": 103,
   "metadata": {},
   "outputs": [
    {
     "data": {
      "text/plain": [
       "{'2025-01-01': '1er janvier',\n",
       " '2025-04-21': 'Lundi de Pâques',\n",
       " '2025-05-01': '1er mai',\n",
       " '2025-05-08': '8 mai',\n",
       " '2025-05-29': 'Ascension',\n",
       " '2025-06-09': 'Lundi de Pentecôte',\n",
       " '2025-07-14': '14 juillet',\n",
       " '2025-08-15': 'Assomption',\n",
       " '2025-11-01': 'Toussaint',\n",
       " '2025-11-11': '11 novembre',\n",
       " '2025-12-25': 'Jour de Noël',\n",
       " '2024-01-01': '1er janvier',\n",
       " '2024-04-01': 'Lundi de Pâques',\n",
       " '2024-05-01': '1er mai',\n",
       " '2024-05-08': '8 mai',\n",
       " '2024-05-09': 'Ascension',\n",
       " '2024-05-20': 'Lundi de Pentecôte',\n",
       " '2024-07-14': '14 juillet',\n",
       " '2024-08-15': 'Assomption',\n",
       " '2024-11-01': 'Toussaint',\n",
       " '2024-11-11': '11 novembre',\n",
       " '2024-12-25': 'Jour de Noël',\n",
       " '2023-01-01': '1er janvier',\n",
       " '2023-04-10': 'Lundi de Pâques',\n",
       " '2023-05-01': '1er mai',\n",
       " '2023-05-08': '8 mai',\n",
       " '2023-05-18': 'Ascension',\n",
       " '2023-05-29': 'Lundi de Pentecôte',\n",
       " '2023-07-14': '14 juillet',\n",
       " '2023-08-15': 'Assomption',\n",
       " '2023-11-01': 'Toussaint',\n",
       " '2023-11-11': '11 novembre',\n",
       " '2023-12-25': 'Jour de Noël',\n",
       " '2022-01-01': '1er janvier',\n",
       " '2022-04-18': 'Lundi de Pâques',\n",
       " '2022-05-01': '1er mai',\n",
       " '2022-05-08': '8 mai',\n",
       " '2022-05-26': 'Ascension',\n",
       " '2022-06-06': 'Lundi de Pentecôte',\n",
       " '2022-07-14': '14 juillet',\n",
       " '2022-08-15': 'Assomption',\n",
       " '2022-11-01': 'Toussaint',\n",
       " '2022-11-11': '11 novembre',\n",
       " '2022-12-25': 'Jour de Noël',\n",
       " '2021-01-01': '1er janvier',\n",
       " '2021-04-05': 'Lundi de Pâques',\n",
       " '2021-05-01': '1er mai',\n",
       " '2021-05-08': '8 mai',\n",
       " '2021-05-13': 'Ascension',\n",
       " '2021-05-24': 'Lundi de Pentecôte',\n",
       " '2021-07-14': '14 juillet',\n",
       " '2021-08-15': 'Assomption',\n",
       " '2021-11-01': 'Toussaint',\n",
       " '2021-11-11': '11 novembre',\n",
       " '2021-12-25': 'Jour de Noël',\n",
       " '2020-01-01': '1er janvier',\n",
       " '2020-04-13': 'Lundi de Pâques',\n",
       " '2020-05-01': '1er mai',\n",
       " '2020-05-08': '8 mai',\n",
       " '2020-05-21': 'Ascension',\n",
       " '2020-06-01': 'Lundi de Pentecôte',\n",
       " '2020-07-14': '14 juillet',\n",
       " '2020-08-15': 'Assomption',\n",
       " '2020-11-01': 'Toussaint',\n",
       " '2020-11-11': '11 novembre',\n",
       " '2020-12-25': 'Jour de Noël',\n",
       " '2019-01-01': '1er janvier',\n",
       " '2019-04-22': 'Lundi de Pâques',\n",
       " '2019-05-01': '1er mai',\n",
       " '2019-05-08': '8 mai',\n",
       " '2019-05-30': 'Ascension',\n",
       " '2019-06-10': 'Lundi de Pentecôte',\n",
       " '2019-07-14': '14 juillet',\n",
       " '2019-08-15': 'Assomption',\n",
       " '2019-11-01': 'Toussaint',\n",
       " '2019-11-11': '11 novembre',\n",
       " '2019-12-25': 'Jour de Noël',\n",
       " '2018-01-01': '1er janvier',\n",
       " '2018-04-02': 'Lundi de Pâques',\n",
       " '2018-05-01': '1er mai',\n",
       " '2018-05-08': '8 mai',\n",
       " '2018-05-10': 'Ascension',\n",
       " '2018-05-21': 'Lundi de Pentecôte',\n",
       " '2018-07-14': '14 juillet',\n",
       " '2018-08-15': 'Assomption',\n",
       " '2018-11-01': 'Toussaint',\n",
       " '2018-11-11': '11 novembre',\n",
       " '2018-12-25': 'Jour de Noël',\n",
       " '2017-01-01': '1er janvier',\n",
       " '2017-04-17': 'Lundi de Pâques',\n",
       " '2017-05-01': '1er mai',\n",
       " '2017-05-08': '8 mai',\n",
       " '2017-05-25': 'Ascension',\n",
       " '2017-06-05': 'Lundi de Pentecôte',\n",
       " '2017-07-14': '14 juillet',\n",
       " '2017-08-15': 'Assomption',\n",
       " '2017-11-01': 'Toussaint',\n",
       " '2017-11-11': '11 novembre',\n",
       " '2017-12-25': 'Jour de Noël',\n",
       " '2016-01-01': '1er janvier',\n",
       " '2016-03-28': 'Lundi de Pâques',\n",
       " '2016-05-01': '1er mai',\n",
       " '2016-05-05': 'Ascension',\n",
       " '2016-05-08': '8 mai',\n",
       " '2016-05-16': 'Lundi de Pentecôte',\n",
       " '2016-07-14': '14 juillet',\n",
       " '2016-08-15': 'Assomption',\n",
       " '2016-11-01': 'Toussaint',\n",
       " '2016-11-11': '11 novembre',\n",
       " '2016-12-25': 'Jour de Noël',\n",
       " '2015-01-01': '1er janvier',\n",
       " '2015-04-06': 'Lundi de Pâques',\n",
       " '2015-05-01': '1er mai',\n",
       " '2015-05-08': '8 mai',\n",
       " '2015-05-14': 'Ascension',\n",
       " '2015-05-25': 'Lundi de Pentecôte',\n",
       " '2015-07-14': '14 juillet',\n",
       " '2015-08-15': 'Assomption',\n",
       " '2015-11-01': 'Toussaint',\n",
       " '2015-11-11': '11 novembre',\n",
       " '2015-12-25': 'Jour de Noël',\n",
       " '2014-01-01': '1er janvier',\n",
       " '2014-04-21': 'Lundi de Pâques',\n",
       " '2014-05-01': '1er mai',\n",
       " '2014-05-08': '8 mai',\n",
       " '2014-05-29': 'Ascension',\n",
       " '2014-06-09': 'Lundi de Pentecôte',\n",
       " '2014-07-14': '14 juillet',\n",
       " '2014-08-15': 'Assomption',\n",
       " '2014-11-01': 'Toussaint',\n",
       " '2014-11-11': '11 novembre',\n",
       " '2014-12-25': 'Jour de Noël',\n",
       " '2013-01-01': '1er janvier',\n",
       " '2013-04-01': 'Lundi de Pâques',\n",
       " '2013-05-01': '1er mai',\n",
       " '2013-05-08': '8 mai',\n",
       " '2013-05-09': 'Ascension',\n",
       " '2013-05-20': 'Lundi de Pentecôte',\n",
       " '2013-07-14': '14 juillet',\n",
       " '2013-08-15': 'Assomption',\n",
       " '2013-11-01': 'Toussaint',\n",
       " '2013-11-11': '11 novembre',\n",
       " '2013-12-25': 'Jour de Noël',\n",
       " '2012-01-01': '1er janvier',\n",
       " '2012-04-09': 'Lundi de Pâques',\n",
       " '2012-05-01': '1er mai',\n",
       " '2012-05-08': '8 mai',\n",
       " '2012-05-17': 'Ascension',\n",
       " '2012-05-28': 'Lundi de Pentecôte',\n",
       " '2012-07-14': '14 juillet',\n",
       " '2012-08-15': 'Assomption',\n",
       " '2012-11-01': 'Toussaint',\n",
       " '2012-11-11': '11 novembre',\n",
       " '2012-12-25': 'Jour de Noël',\n",
       " '2011-01-01': '1er janvier',\n",
       " '2011-04-25': 'Lundi de Pâques',\n",
       " '2011-05-01': '1er mai',\n",
       " '2011-05-08': '8 mai',\n",
       " '2011-06-02': 'Ascension',\n",
       " '2011-06-13': 'Lundi de Pentecôte',\n",
       " '2011-07-14': '14 juillet',\n",
       " '2011-08-15': 'Assomption',\n",
       " '2011-11-01': 'Toussaint',\n",
       " '2011-11-11': '11 novembre',\n",
       " '2011-12-25': 'Jour de Noël',\n",
       " '2010-01-01': '1er janvier',\n",
       " '2010-04-05': 'Lundi de Pâques',\n",
       " '2010-05-01': '1er mai',\n",
       " '2010-05-08': '8 mai',\n",
       " '2010-05-13': 'Ascension',\n",
       " '2010-05-24': 'Lundi de Pentecôte',\n",
       " '2010-07-14': '14 juillet',\n",
       " '2010-08-15': 'Assomption',\n",
       " '2010-11-01': 'Toussaint',\n",
       " '2010-11-11': '11 novembre',\n",
       " '2010-12-25': 'Jour de Noël',\n",
       " '2009-01-01': '1er janvier',\n",
       " '2009-04-13': 'Lundi de Pâques',\n",
       " '2009-05-01': '1er mai',\n",
       " '2009-05-08': '8 mai',\n",
       " '2009-05-21': 'Ascension',\n",
       " '2009-06-01': 'Lundi de Pentecôte',\n",
       " '2009-07-14': '14 juillet',\n",
       " '2009-08-15': 'Assomption',\n",
       " '2009-11-01': 'Toussaint',\n",
       " '2009-11-11': '11 novembre',\n",
       " '2009-12-25': 'Jour de Noël',\n",
       " '2008-01-01': '1er janvier',\n",
       " '2008-03-24': 'Lundi de Pâques',\n",
       " '2008-05-01': 'Ascension',\n",
       " '2008-05-08': '8 mai',\n",
       " '2008-05-12': 'Lundi de Pentecôte',\n",
       " '2008-07-14': '14 juillet',\n",
       " '2008-08-15': 'Assomption',\n",
       " '2008-11-01': 'Toussaint',\n",
       " '2008-11-11': '11 novembre',\n",
       " '2008-12-25': 'Jour de Noël',\n",
       " '2007-01-01': '1er janvier',\n",
       " '2007-04-09': 'Lundi de Pâques',\n",
       " '2007-05-01': '1er mai',\n",
       " '2007-05-08': '8 mai',\n",
       " '2007-05-17': 'Ascension',\n",
       " '2007-05-28': 'Lundi de Pentecôte',\n",
       " '2007-07-14': '14 juillet',\n",
       " '2007-08-15': 'Assomption',\n",
       " '2007-11-01': 'Toussaint',\n",
       " '2007-11-11': '11 novembre',\n",
       " '2007-12-25': 'Jour de Noël',\n",
       " '2006-01-01': '1er janvier',\n",
       " '2006-04-17': 'Lundi de Pâques',\n",
       " '2006-05-01': '1er mai',\n",
       " '2006-05-08': '8 mai',\n",
       " '2006-05-25': 'Ascension',\n",
       " '2006-06-05': 'Lundi de Pentecôte',\n",
       " '2006-07-14': '14 juillet',\n",
       " '2006-08-15': 'Assomption',\n",
       " '2006-11-01': 'Toussaint',\n",
       " '2006-11-11': '11 novembre',\n",
       " '2006-12-25': 'Jour de Noël',\n",
       " '2005-01-01': '1er janvier',\n",
       " '2005-03-28': 'Lundi de Pâques',\n",
       " '2005-05-01': '1er mai',\n",
       " '2005-05-05': 'Ascension',\n",
       " '2005-05-08': '8 mai',\n",
       " '2005-05-16': 'Lundi de Pentecôte',\n",
       " '2005-07-14': '14 juillet',\n",
       " '2005-08-15': 'Assomption',\n",
       " '2005-11-01': 'Toussaint',\n",
       " '2005-11-11': '11 novembre',\n",
       " '2005-12-25': 'Jour de Noël',\n",
       " '2004-01-01': '1er janvier',\n",
       " '2004-04-12': 'Lundi de Pâques',\n",
       " '2004-05-01': '1er mai',\n",
       " '2004-05-08': '8 mai',\n",
       " '2004-05-20': 'Ascension',\n",
       " '2004-05-31': 'Lundi de Pentecôte',\n",
       " '2004-07-14': '14 juillet',\n",
       " '2004-08-15': 'Assomption',\n",
       " '2004-11-01': 'Toussaint',\n",
       " '2004-11-11': '11 novembre',\n",
       " '2004-12-25': 'Jour de Noël',\n",
       " '2003-01-01': '1er janvier',\n",
       " '2003-04-21': 'Lundi de Pâques',\n",
       " '2003-05-01': '1er mai',\n",
       " '2003-05-08': '8 mai',\n",
       " '2003-05-29': 'Ascension',\n",
       " '2003-06-09': 'Lundi de Pentecôte',\n",
       " '2003-07-14': '14 juillet',\n",
       " '2003-08-15': 'Assomption',\n",
       " '2003-11-01': 'Toussaint',\n",
       " '2003-11-11': '11 novembre',\n",
       " '2003-12-25': 'Jour de Noël',\n",
       " '2002-01-01': '1er janvier',\n",
       " '2002-04-01': 'Lundi de Pâques',\n",
       " '2002-05-01': '1er mai',\n",
       " '2002-05-08': '8 mai',\n",
       " '2002-05-09': 'Ascension',\n",
       " '2002-05-20': 'Lundi de Pentecôte',\n",
       " '2002-07-14': '14 juillet',\n",
       " '2002-08-15': 'Assomption',\n",
       " '2002-11-01': 'Toussaint',\n",
       " '2002-11-11': '11 novembre',\n",
       " '2002-12-25': 'Jour de Noël',\n",
       " '2001-01-01': '1er janvier',\n",
       " '2001-04-16': 'Lundi de Pâques',\n",
       " '2001-05-01': '1er mai',\n",
       " '2001-05-08': '8 mai',\n",
       " '2001-05-24': 'Ascension',\n",
       " '2001-06-04': 'Lundi de Pentecôte',\n",
       " '2001-07-14': '14 juillet',\n",
       " '2001-08-15': 'Assomption',\n",
       " '2001-11-01': 'Toussaint',\n",
       " '2001-11-11': '11 novembre',\n",
       " '2001-12-25': 'Jour de Noël',\n",
       " '2000-01-01': '1er janvier',\n",
       " '2000-04-24': 'Lundi de Pâques',\n",
       " '2000-05-01': '1er mai',\n",
       " '2000-05-08': '8 mai',\n",
       " '2000-06-01': 'Ascension',\n",
       " '2000-06-12': 'Lundi de Pentecôte',\n",
       " '2000-07-14': '14 juillet',\n",
       " '2000-08-15': 'Assomption',\n",
       " '2000-11-01': 'Toussaint',\n",
       " '2000-11-11': '11 novembre',\n",
       " '2000-12-25': 'Jour de Noël'}"
      ]
     },
     "execution_count": 103,
     "metadata": {},
     "output_type": "execute_result"
    }
   ],
   "source": [
    "import requests\n",
    "\n",
    "headers = {\n",
    "    'Host': 'calendrier.api.gouv.fr',\n",
    "    'apiKey' : key\n",
    "}\n",
    "\n",
    "response = requests.get('http://localhost:8000/jours-feries/metropole.json', headers=headers)\n",
    "response.json()"
   ]
  },
  {
   "cell_type": "markdown",
   "metadata": {},
   "source": [
    "## Securiser via OIDC "
   ]
  },
  {
   "cell_type": "markdown",
   "metadata": {},
   "source": [
    "Créer un client dans Keycloak\n",
    "1. Récupérer le nom du client\n",
    "2. Settings/AccessType = bearer only\n",
    "3. Onglet crédentials => Récupérer Secret"
   ]
  },
  {
   "cell_type": "code",
   "execution_count": 114,
   "metadata": {},
   "outputs": [],
   "source": [
    "CLIENT_SECRETS = \"7c9fce0f-66d1-4eee-8dcf-3711cd5c5043\""
   ]
  },
  {
   "cell_type": "code",
   "execution_count": 115,
   "metadata": {},
   "outputs": [],
   "source": [
    "KEYCLOAK_HOST_IP=\"keycloak\"\n",
    "KEYCLOAK_PORT=8080\n",
    "AUTH_URI = f\"http://{KEYCLOAK_HOST_IP}:{KEYCLOAK_PORT}\"\n",
    "\n",
    "introspection_url = f'{AUTH_URI}/auth/realms/master/protocol/openid-connect/token/introspect'\n",
    "discovery_url = f'{AUTH_URI}/auth/realms/master/.well-known/openid-configuration'\n"
   ]
  },
  {
   "cell_type": "code",
   "execution_count": 116,
   "metadata": {},
   "outputs": [],
   "source": [
    "data = {\n",
    "    'name': 'oidc',\n",
    "    'config.client_id': 'kong',\n",
    "    'config.client_secret': f'{CLIENT_SECRETS}',\n",
    "    'config.realm': 'master',\n",
    "    'config.bearer_only': 'true',\n",
    "    'config.introspection_endpoint': introspection_url,\n",
    "    'config.discovery': discovery_url\n",
    "}\n",
    "\n",
    "response = requests.post(f'http://localhost:8001/services/{SERVICE_ID}/plugins', data=data)"
   ]
  },
  {
   "cell_type": "code",
   "execution_count": 117,
   "metadata": {},
   "outputs": [
    {
     "data": {
      "text/plain": [
       "{'created_at': 1630491017,\n",
       " 'id': 'e5f75078-3822-4252-b1f3-0fdb60f4cb09',\n",
       " 'tags': None,\n",
       " 'enabled': True,\n",
       " 'protocols': ['grpc', 'grpcs', 'http', 'https'],\n",
       " 'name': 'oidc',\n",
       " 'consumer': None,\n",
       " 'service': {'id': 'ce6941e8-f461-4e3b-bdc3-843b5ab3030c'},\n",
       " 'route': None,\n",
       " 'config': {'response_type': 'code',\n",
       "  'introspection_endpoint': 'http://keycloak:8080/auth/realms/master/protocol/openid-connect/token/introspect',\n",
       "  'filters': None,\n",
       "  'bearer_only': 'true',\n",
       "  'ssl_verify': 'no',\n",
       "  'session_secret': None,\n",
       "  'introspection_endpoint_auth_method': None,\n",
       "  'realm': 'master',\n",
       "  'redirect_after_logout_uri': '/',\n",
       "  'scope': 'openid',\n",
       "  'token_endpoint_auth_method': 'client_secret_post',\n",
       "  'logout_path': '/logout',\n",
       "  'client_id': 'kong',\n",
       "  'client_secret': '7c9fce0f-66d1-4eee-8dcf-3711cd5c5043',\n",
       "  'discovery': 'http://keycloak:8080/auth/realms/master/.well-known/openid-configuration',\n",
       "  'recovery_page_path': None,\n",
       "  'redirect_uri_path': None}}"
      ]
     },
     "execution_count": 117,
     "metadata": {},
     "output_type": "execute_result"
    }
   ],
   "source": [
    "response.json()"
   ]
  },
  {
   "cell_type": "code",
   "execution_count": null,
   "metadata": {},
   "outputs": [],
   "source": []
  },
  {
   "cell_type": "code",
   "execution_count": null,
   "metadata": {},
   "outputs": [],
   "source": []
  },
  {
   "cell_type": "markdown",
   "metadata": {},
   "source": [
    "## Ajouter Rate limiting"
   ]
  },
  {
   "cell_type": "markdown",
   "metadata": {},
   "source": [
    "https://docs.konghq.com/hub/kong-inc/rate-limiting/"
   ]
  },
  {
   "cell_type": "code",
   "execution_count": 58,
   "metadata": {},
   "outputs": [
    {
     "name": "stdout",
     "output_type": "stream",
     "text": [
      "{\"message\":\"UNIQUE violation detected on '{consumer=null,name=\\\"rate-limiting\\\",route=null,service={id=\\\"61c5a40a-b533-412f-801d-6a964175f9f0\\\"}}'\",\"name\":\"unique constraint violation\",\"fields\":{\"service\":{\"id\":\"61c5a40a-b533-412f-801d-6a964175f9f0\"},\"name\":\"rate-limiting\",\"route\":null,\"consumer\":null},\"code\":5}"
     ]
    }
   ],
   "source": [
    "!curl -X POST http://localhost:8001/services/61c5a40a-b533-412f-801d-6a964175f9f0/plugins \\\n",
    "    --data \"name=rate-limiting\"  \\\n",
    "    --data \"config.second=5\" \\\n",
    "    --data \"config.hour=10000\" \\\n",
    "    --data \"config.policy=local\""
   ]
  },
  {
   "cell_type": "code",
   "execution_count": null,
   "metadata": {},
   "outputs": [],
   "source": [
    "# Tests "
   ]
  },
  {
   "cell_type": "code",
   "execution_count": 60,
   "metadata": {},
   "outputs": [
    {
     "name": "stdout",
     "output_type": "stream",
     "text": [
      "200\n",
      "200\n",
      "200\n",
      "200\n",
      "200\n",
      "429\n",
      "429\n",
      "429\n",
      "429\n",
      "429\n"
     ]
    }
   ],
   "source": [
    "headers = {\n",
    "    'Host': 'calendrier.api.gouv.fr',\n",
    "    'apiKey' : key\n",
    "}\n",
    "for i in range(10):\n",
    "    response = requests.get('http://localhost:8000/jours-feries/metropole.json', headers=headers)\n",
    "    print(response.status_code)"
   ]
  },
  {
   "cell_type": "markdown",
   "metadata": {},
   "source": [
    "## Ajouter une restriction d'IP "
   ]
  },
  {
   "cell_type": "markdown",
   "metadata": {},
   "source": [
    "https://docs.konghq.com/hub/kong-inc/ip-restriction/"
   ]
  },
  {
   "cell_type": "markdown",
   "metadata": {},
   "source": [
    "#### Curl "
   ]
  },
  {
   "cell_type": "code",
   "execution_count": 63,
   "metadata": {},
   "outputs": [
    {
     "name": "stdout",
     "output_type": "stream",
     "text": [
      "{\"created_at\":1630488374,\"id\":\"6aab662b-5c79-4dcc-8f75-b26425ca391e\",\"tags\":null,\"enabled\":true,\"protocols\":[\"grpc\",\"grpcs\",\"http\",\"https\"],\"name\":\"ip-restriction\",\"consumer\":null,\"service\":{\"id\":\"61c5a40a-b533-412f-801d-6a964175f9f0\"},\"route\":null,\"config\":{\"allow\":[\"82.210.36.251\"],\"deny\":null}}"
     ]
    }
   ],
   "source": [
    "!curl -X POST http://localhost:8001/services/61c5a40a-b533-412f-801d-6a964175f9f0/plugins \\\n",
    "    --data \"name=ip-restriction\"  \\\n",
    "    --data \"config.allow=82.210.36.251\""
   ]
  },
  {
   "cell_type": "markdown",
   "metadata": {},
   "source": [
    "#### Requests"
   ]
  },
  {
   "cell_type": "code",
   "execution_count": null,
   "metadata": {},
   "outputs": [],
   "source": [
    "import requests\n",
    "\n",
    "data = {\n",
    "  'name': 'ip-restriction',\n",
    "  'config.allow': '82.210.36.251'\n",
    "}\n",
    "\n",
    "response = requests.post(f'http://localhost:8001/services/{SERVICE_ID}/plugins', data=data)\n"
   ]
  },
  {
   "cell_type": "markdown",
   "metadata": {},
   "source": [
    "#### Tester"
   ]
  },
  {
   "cell_type": "code",
   "execution_count": 73,
   "metadata": {},
   "outputs": [
    {
     "data": {
      "text/plain": [
       "{'2025-01-01': '1er janvier',\n",
       " '2025-04-21': 'Lundi de Pâques',\n",
       " '2025-05-01': '1er mai',\n",
       " '2025-05-08': '8 mai',\n",
       " '2025-05-29': 'Ascension',\n",
       " '2025-06-09': 'Lundi de Pentecôte',\n",
       " '2025-07-14': '14 juillet',\n",
       " '2025-08-15': 'Assomption',\n",
       " '2025-11-01': 'Toussaint',\n",
       " '2025-11-11': '11 novembre',\n",
       " '2025-12-25': 'Jour de Noël',\n",
       " '2024-01-01': '1er janvier',\n",
       " '2024-04-01': 'Lundi de Pâques',\n",
       " '2024-05-01': '1er mai',\n",
       " '2024-05-08': '8 mai',\n",
       " '2024-05-09': 'Ascension',\n",
       " '2024-05-20': 'Lundi de Pentecôte',\n",
       " '2024-07-14': '14 juillet',\n",
       " '2024-08-15': 'Assomption',\n",
       " '2024-11-01': 'Toussaint',\n",
       " '2024-11-11': '11 novembre',\n",
       " '2024-12-25': 'Jour de Noël',\n",
       " '2023-01-01': '1er janvier',\n",
       " '2023-04-10': 'Lundi de Pâques',\n",
       " '2023-05-01': '1er mai',\n",
       " '2023-05-08': '8 mai',\n",
       " '2023-05-18': 'Ascension',\n",
       " '2023-05-29': 'Lundi de Pentecôte',\n",
       " '2023-07-14': '14 juillet',\n",
       " '2023-08-15': 'Assomption',\n",
       " '2023-11-01': 'Toussaint',\n",
       " '2023-11-11': '11 novembre',\n",
       " '2023-12-25': 'Jour de Noël',\n",
       " '2022-01-01': '1er janvier',\n",
       " '2022-04-18': 'Lundi de Pâques',\n",
       " '2022-05-01': '1er mai',\n",
       " '2022-05-08': '8 mai',\n",
       " '2022-05-26': 'Ascension',\n",
       " '2022-06-06': 'Lundi de Pentecôte',\n",
       " '2022-07-14': '14 juillet',\n",
       " '2022-08-15': 'Assomption',\n",
       " '2022-11-01': 'Toussaint',\n",
       " '2022-11-11': '11 novembre',\n",
       " '2022-12-25': 'Jour de Noël',\n",
       " '2021-01-01': '1er janvier',\n",
       " '2021-04-05': 'Lundi de Pâques',\n",
       " '2021-05-01': '1er mai',\n",
       " '2021-05-08': '8 mai',\n",
       " '2021-05-13': 'Ascension',\n",
       " '2021-05-24': 'Lundi de Pentecôte',\n",
       " '2021-07-14': '14 juillet',\n",
       " '2021-08-15': 'Assomption',\n",
       " '2021-11-01': 'Toussaint',\n",
       " '2021-11-11': '11 novembre',\n",
       " '2021-12-25': 'Jour de Noël',\n",
       " '2020-01-01': '1er janvier',\n",
       " '2020-04-13': 'Lundi de Pâques',\n",
       " '2020-05-01': '1er mai',\n",
       " '2020-05-08': '8 mai',\n",
       " '2020-05-21': 'Ascension',\n",
       " '2020-06-01': 'Lundi de Pentecôte',\n",
       " '2020-07-14': '14 juillet',\n",
       " '2020-08-15': 'Assomption',\n",
       " '2020-11-01': 'Toussaint',\n",
       " '2020-11-11': '11 novembre',\n",
       " '2020-12-25': 'Jour de Noël',\n",
       " '2019-01-01': '1er janvier',\n",
       " '2019-04-22': 'Lundi de Pâques',\n",
       " '2019-05-01': '1er mai',\n",
       " '2019-05-08': '8 mai',\n",
       " '2019-05-30': 'Ascension',\n",
       " '2019-06-10': 'Lundi de Pentecôte',\n",
       " '2019-07-14': '14 juillet',\n",
       " '2019-08-15': 'Assomption',\n",
       " '2019-11-01': 'Toussaint',\n",
       " '2019-11-11': '11 novembre',\n",
       " '2019-12-25': 'Jour de Noël',\n",
       " '2018-01-01': '1er janvier',\n",
       " '2018-04-02': 'Lundi de Pâques',\n",
       " '2018-05-01': '1er mai',\n",
       " '2018-05-08': '8 mai',\n",
       " '2018-05-10': 'Ascension',\n",
       " '2018-05-21': 'Lundi de Pentecôte',\n",
       " '2018-07-14': '14 juillet',\n",
       " '2018-08-15': 'Assomption',\n",
       " '2018-11-01': 'Toussaint',\n",
       " '2018-11-11': '11 novembre',\n",
       " '2018-12-25': 'Jour de Noël',\n",
       " '2017-01-01': '1er janvier',\n",
       " '2017-04-17': 'Lundi de Pâques',\n",
       " '2017-05-01': '1er mai',\n",
       " '2017-05-08': '8 mai',\n",
       " '2017-05-25': 'Ascension',\n",
       " '2017-06-05': 'Lundi de Pentecôte',\n",
       " '2017-07-14': '14 juillet',\n",
       " '2017-08-15': 'Assomption',\n",
       " '2017-11-01': 'Toussaint',\n",
       " '2017-11-11': '11 novembre',\n",
       " '2017-12-25': 'Jour de Noël',\n",
       " '2016-01-01': '1er janvier',\n",
       " '2016-03-28': 'Lundi de Pâques',\n",
       " '2016-05-01': '1er mai',\n",
       " '2016-05-05': 'Ascension',\n",
       " '2016-05-08': '8 mai',\n",
       " '2016-05-16': 'Lundi de Pentecôte',\n",
       " '2016-07-14': '14 juillet',\n",
       " '2016-08-15': 'Assomption',\n",
       " '2016-11-01': 'Toussaint',\n",
       " '2016-11-11': '11 novembre',\n",
       " '2016-12-25': 'Jour de Noël',\n",
       " '2015-01-01': '1er janvier',\n",
       " '2015-04-06': 'Lundi de Pâques',\n",
       " '2015-05-01': '1er mai',\n",
       " '2015-05-08': '8 mai',\n",
       " '2015-05-14': 'Ascension',\n",
       " '2015-05-25': 'Lundi de Pentecôte',\n",
       " '2015-07-14': '14 juillet',\n",
       " '2015-08-15': 'Assomption',\n",
       " '2015-11-01': 'Toussaint',\n",
       " '2015-11-11': '11 novembre',\n",
       " '2015-12-25': 'Jour de Noël',\n",
       " '2014-01-01': '1er janvier',\n",
       " '2014-04-21': 'Lundi de Pâques',\n",
       " '2014-05-01': '1er mai',\n",
       " '2014-05-08': '8 mai',\n",
       " '2014-05-29': 'Ascension',\n",
       " '2014-06-09': 'Lundi de Pentecôte',\n",
       " '2014-07-14': '14 juillet',\n",
       " '2014-08-15': 'Assomption',\n",
       " '2014-11-01': 'Toussaint',\n",
       " '2014-11-11': '11 novembre',\n",
       " '2014-12-25': 'Jour de Noël',\n",
       " '2013-01-01': '1er janvier',\n",
       " '2013-04-01': 'Lundi de Pâques',\n",
       " '2013-05-01': '1er mai',\n",
       " '2013-05-08': '8 mai',\n",
       " '2013-05-09': 'Ascension',\n",
       " '2013-05-20': 'Lundi de Pentecôte',\n",
       " '2013-07-14': '14 juillet',\n",
       " '2013-08-15': 'Assomption',\n",
       " '2013-11-01': 'Toussaint',\n",
       " '2013-11-11': '11 novembre',\n",
       " '2013-12-25': 'Jour de Noël',\n",
       " '2012-01-01': '1er janvier',\n",
       " '2012-04-09': 'Lundi de Pâques',\n",
       " '2012-05-01': '1er mai',\n",
       " '2012-05-08': '8 mai',\n",
       " '2012-05-17': 'Ascension',\n",
       " '2012-05-28': 'Lundi de Pentecôte',\n",
       " '2012-07-14': '14 juillet',\n",
       " '2012-08-15': 'Assomption',\n",
       " '2012-11-01': 'Toussaint',\n",
       " '2012-11-11': '11 novembre',\n",
       " '2012-12-25': 'Jour de Noël',\n",
       " '2011-01-01': '1er janvier',\n",
       " '2011-04-25': 'Lundi de Pâques',\n",
       " '2011-05-01': '1er mai',\n",
       " '2011-05-08': '8 mai',\n",
       " '2011-06-02': 'Ascension',\n",
       " '2011-06-13': 'Lundi de Pentecôte',\n",
       " '2011-07-14': '14 juillet',\n",
       " '2011-08-15': 'Assomption',\n",
       " '2011-11-01': 'Toussaint',\n",
       " '2011-11-11': '11 novembre',\n",
       " '2011-12-25': 'Jour de Noël',\n",
       " '2010-01-01': '1er janvier',\n",
       " '2010-04-05': 'Lundi de Pâques',\n",
       " '2010-05-01': '1er mai',\n",
       " '2010-05-08': '8 mai',\n",
       " '2010-05-13': 'Ascension',\n",
       " '2010-05-24': 'Lundi de Pentecôte',\n",
       " '2010-07-14': '14 juillet',\n",
       " '2010-08-15': 'Assomption',\n",
       " '2010-11-01': 'Toussaint',\n",
       " '2010-11-11': '11 novembre',\n",
       " '2010-12-25': 'Jour de Noël',\n",
       " '2009-01-01': '1er janvier',\n",
       " '2009-04-13': 'Lundi de Pâques',\n",
       " '2009-05-01': '1er mai',\n",
       " '2009-05-08': '8 mai',\n",
       " '2009-05-21': 'Ascension',\n",
       " '2009-06-01': 'Lundi de Pentecôte',\n",
       " '2009-07-14': '14 juillet',\n",
       " '2009-08-15': 'Assomption',\n",
       " '2009-11-01': 'Toussaint',\n",
       " '2009-11-11': '11 novembre',\n",
       " '2009-12-25': 'Jour de Noël',\n",
       " '2008-01-01': '1er janvier',\n",
       " '2008-03-24': 'Lundi de Pâques',\n",
       " '2008-05-01': 'Ascension',\n",
       " '2008-05-08': '8 mai',\n",
       " '2008-05-12': 'Lundi de Pentecôte',\n",
       " '2008-07-14': '14 juillet',\n",
       " '2008-08-15': 'Assomption',\n",
       " '2008-11-01': 'Toussaint',\n",
       " '2008-11-11': '11 novembre',\n",
       " '2008-12-25': 'Jour de Noël',\n",
       " '2007-01-01': '1er janvier',\n",
       " '2007-04-09': 'Lundi de Pâques',\n",
       " '2007-05-01': '1er mai',\n",
       " '2007-05-08': '8 mai',\n",
       " '2007-05-17': 'Ascension',\n",
       " '2007-05-28': 'Lundi de Pentecôte',\n",
       " '2007-07-14': '14 juillet',\n",
       " '2007-08-15': 'Assomption',\n",
       " '2007-11-01': 'Toussaint',\n",
       " '2007-11-11': '11 novembre',\n",
       " '2007-12-25': 'Jour de Noël',\n",
       " '2006-01-01': '1er janvier',\n",
       " '2006-04-17': 'Lundi de Pâques',\n",
       " '2006-05-01': '1er mai',\n",
       " '2006-05-08': '8 mai',\n",
       " '2006-05-25': 'Ascension',\n",
       " '2006-06-05': 'Lundi de Pentecôte',\n",
       " '2006-07-14': '14 juillet',\n",
       " '2006-08-15': 'Assomption',\n",
       " '2006-11-01': 'Toussaint',\n",
       " '2006-11-11': '11 novembre',\n",
       " '2006-12-25': 'Jour de Noël',\n",
       " '2005-01-01': '1er janvier',\n",
       " '2005-03-28': 'Lundi de Pâques',\n",
       " '2005-05-01': '1er mai',\n",
       " '2005-05-05': 'Ascension',\n",
       " '2005-05-08': '8 mai',\n",
       " '2005-05-16': 'Lundi de Pentecôte',\n",
       " '2005-07-14': '14 juillet',\n",
       " '2005-08-15': 'Assomption',\n",
       " '2005-11-01': 'Toussaint',\n",
       " '2005-11-11': '11 novembre',\n",
       " '2005-12-25': 'Jour de Noël',\n",
       " '2004-01-01': '1er janvier',\n",
       " '2004-04-12': 'Lundi de Pâques',\n",
       " '2004-05-01': '1er mai',\n",
       " '2004-05-08': '8 mai',\n",
       " '2004-05-20': 'Ascension',\n",
       " '2004-05-31': 'Lundi de Pentecôte',\n",
       " '2004-07-14': '14 juillet',\n",
       " '2004-08-15': 'Assomption',\n",
       " '2004-11-01': 'Toussaint',\n",
       " '2004-11-11': '11 novembre',\n",
       " '2004-12-25': 'Jour de Noël',\n",
       " '2003-01-01': '1er janvier',\n",
       " '2003-04-21': 'Lundi de Pâques',\n",
       " '2003-05-01': '1er mai',\n",
       " '2003-05-08': '8 mai',\n",
       " '2003-05-29': 'Ascension',\n",
       " '2003-06-09': 'Lundi de Pentecôte',\n",
       " '2003-07-14': '14 juillet',\n",
       " '2003-08-15': 'Assomption',\n",
       " '2003-11-01': 'Toussaint',\n",
       " '2003-11-11': '11 novembre',\n",
       " '2003-12-25': 'Jour de Noël',\n",
       " '2002-01-01': '1er janvier',\n",
       " '2002-04-01': 'Lundi de Pâques',\n",
       " '2002-05-01': '1er mai',\n",
       " '2002-05-08': '8 mai',\n",
       " '2002-05-09': 'Ascension',\n",
       " '2002-05-20': 'Lundi de Pentecôte',\n",
       " '2002-07-14': '14 juillet',\n",
       " '2002-08-15': 'Assomption',\n",
       " '2002-11-01': 'Toussaint',\n",
       " '2002-11-11': '11 novembre',\n",
       " '2002-12-25': 'Jour de Noël',\n",
       " '2001-01-01': '1er janvier',\n",
       " '2001-04-16': 'Lundi de Pâques',\n",
       " '2001-05-01': '1er mai',\n",
       " '2001-05-08': '8 mai',\n",
       " '2001-05-24': 'Ascension',\n",
       " '2001-06-04': 'Lundi de Pentecôte',\n",
       " '2001-07-14': '14 juillet',\n",
       " '2001-08-15': 'Assomption',\n",
       " '2001-11-01': 'Toussaint',\n",
       " '2001-11-11': '11 novembre',\n",
       " '2001-12-25': 'Jour de Noël',\n",
       " '2000-01-01': '1er janvier',\n",
       " '2000-04-24': 'Lundi de Pâques',\n",
       " '2000-05-01': '1er mai',\n",
       " '2000-05-08': '8 mai',\n",
       " '2000-06-01': 'Ascension',\n",
       " '2000-06-12': 'Lundi de Pentecôte',\n",
       " '2000-07-14': '14 juillet',\n",
       " '2000-08-15': 'Assomption',\n",
       " '2000-11-01': 'Toussaint',\n",
       " '2000-11-11': '11 novembre',\n",
       " '2000-12-25': 'Jour de Noël'}"
      ]
     },
     "execution_count": 73,
     "metadata": {},
     "output_type": "execute_result"
    }
   ],
   "source": [
    "import requests\n",
    "\n",
    "headers = {\n",
    "    'Host': 'calendrier.api.gouv.fr',\n",
    "    'apiKey' : key\n",
    "}\n",
    "\n",
    "response = requests.get('http://localhost:8000/jours-feries/metropole.json', headers=headers)\n",
    "response.json()"
   ]
  },
  {
   "cell_type": "markdown",
   "metadata": {},
   "source": [
    "## Ajouter une gestion des CORS"
   ]
  },
  {
   "cell_type": "code",
   "execution_count": null,
   "metadata": {},
   "outputs": [],
   "source": [
    "!curl -X POST http://{HOST}:8001/services/61c5a40a-b533-412f-801d-6a964175f9f0/plugins \\\n",
    "    --data \"name=cors\"  \\\n",
    "    --data \"config.origins=http://localhost:4200\" \\\n",
    "    --data \"config.methods=GET\" \\\n",
    "    --data \"config.methods=POST\" \\\n",
    "    --data \"config.headers=Accept\" \\\n",
    "    --data \"config.headers=Accept-Version\" \\\n",
    "    --data \"config.headers=Content-Length\" \\\n",
    "    --data \"config.headers=Content-MD5\" \\\n",
    "    --data \"config.headers=Content-Type\" \\\n",
    "    --data \"config.headers=Date\" \\\n",
    "    --data \"config.headers=X-Auth-Token\" \\\n",
    "    --data \"config.exposed_headers=X-Auth-Token\" \\7BHOST\n",
    "    --data \"config.credentials=true\" \\\n",
    "    --data \"config.max_age=3600\" \\\n",
    "    --data \"config.preflight_continue=false\""
   ]
  },
  {
   "cell_type": "markdown",
   "metadata": {},
   "source": [
    "#### Requests "
   ]
  },
  {
   "cell_type": "code",
   "execution_count": 76,
   "metadata": {},
   "outputs": [
    {
     "data": {
      "text/plain": [
       "{'created_at': 1630488696,\n",
       " 'id': '8eb0c4fe-566b-419c-b25a-de658a14ba53',\n",
       " 'tags': None,\n",
       " 'enabled': True,\n",
       " 'protocols': ['grpc', 'grpcs', 'http', 'https'],\n",
       " 'name': 'cors',\n",
       " 'consumer': None,\n",
       " 'service': {'id': '61c5a40a-b533-412f-801d-6a964175f9f0'},\n",
       " 'route': None,\n",
       " 'config': {'methods': ['GET', 'POST'],\n",
       "  'exposed_headers': ['X-Auth-Token'],\n",
       "  'max_age': 3600,\n",
       "  'headers': ['Accept',\n",
       "   'Accept-Version',\n",
       "   'Content-Length',\n",
       "   'Content-MD5',\n",
       "   'Content-Type',\n",
       "   'Date',\n",
       "   'X-Auth-Token'],\n",
       "  'origins': ['http://localhost:4200'],\n",
       "  'credentials': True,\n",
       "  'preflight_continue': False}}"
      ]
     },
     "execution_count": 76,
     "metadata": {},
     "output_type": "execute_result"
    }
   ],
   "source": [
    "import requests\n",
    "\n",
    "data = [\n",
    "  ('name', 'cors'),\n",
    "  ('config.origins', 'http://localhost:4200'),\n",
    "  ('config.methods', 'GET'),\n",
    "  ('config.methods', 'POST'),\n",
    "  ('config.headers', 'Accept'),\n",
    "  ('config.headers', 'Accept-Version'),\n",
    "  ('config.headers', 'Content-Length'),\n",
    "  ('config.headers', 'Content-MD5'),\n",
    "  ('config.headers', 'Content-Type'),\n",
    "  ('config.headers', 'Date'),\n",
    "  ('config.headers', 'X-Auth-Token'),\n",
    "  ('config.exposed_headers', 'X-Auth-Token'),\n",
    "  ('config.credentials', 'true'),\n",
    "  ('config.max_age', '3600'),\n",
    "  ('config.preflight_continue', 'false'),\n",
    "]\n",
    "\n",
    "response = requests.post(f'http://localhost:8001/services/{SERVICE_ID}/plugins', data=data)\n",
    "response.json()"
   ]
  },
  {
   "cell_type": "markdown",
   "metadata": {},
   "source": [
    "### Supprimer un plugin"
   ]
  },
  {
   "cell_type": "markdown",
   "metadata": {},
   "source": [
    "#### Trouver son ID"
   ]
  },
  {
   "cell_type": "code",
   "execution_count": 72,
   "metadata": {},
   "outputs": [
    {
     "data": {
      "text/plain": [
       "{'next': None,\n",
       " 'data': [{'created_at': 1630488090,\n",
       "   'id': 'bbc7865c-f4a0-45c5-a7a3-5ecea128b6cd',\n",
       "   'tags': None,\n",
       "   'enabled': True,\n",
       "   'protocols': ['grpc', 'grpcs', 'http', 'https'],\n",
       "   'name': 'rate-limiting',\n",
       "   'consumer': None,\n",
       "   'service': {'id': '61c5a40a-b533-412f-801d-6a964175f9f0'},\n",
       "   'route': None,\n",
       "   'config': {'minute': None,\n",
       "    'redis_host': None,\n",
       "    'redis_timeout': 2000,\n",
       "    'limit_by': 'consumer',\n",
       "    'hour': 10000,\n",
       "    'policy': 'local',\n",
       "    'month': None,\n",
       "    'redis_password': None,\n",
       "    'second': 5,\n",
       "    'day': None,\n",
       "    'hide_client_headers': False,\n",
       "    'path': None,\n",
       "    'redis_database': 0,\n",
       "    'year': None,\n",
       "    'redis_port': 6379,\n",
       "    'header_name': None,\n",
       "    'fault_tolerant': True}},\n",
       "  {'created_at': 1630487929,\n",
       "   'id': 'f044f28e-09f3-4672-b74e-401b4258a113',\n",
       "   'tags': None,\n",
       "   'enabled': True,\n",
       "   'protocols': ['grpc', 'grpcs', 'http', 'https'],\n",
       "   'name': 'key-auth',\n",
       "   'consumer': None,\n",
       "   'service': {'id': '61c5a40a-b533-412f-801d-6a964175f9f0'},\n",
       "   'route': None,\n",
       "   'config': {'key_in_query': True,\n",
       "    'key_names': ['apikey'],\n",
       "    'key_in_header': True,\n",
       "    'run_on_preflight': True,\n",
       "    'anonymous': None,\n",
       "    'hide_credentials': False,\n",
       "    'key_in_body': False}}]}"
      ]
     },
     "execution_count": 72,
     "metadata": {},
     "output_type": "execute_result"
    }
   ],
   "source": [
    "response = requests.get('http://localhost:8001/plugins')\n",
    "response.json()"
   ]
  },
  {
   "cell_type": "code",
   "execution_count": 71,
   "metadata": {},
   "outputs": [
    {
     "data": {
      "text/plain": [
       "<Response [204]>"
      ]
     },
     "execution_count": 71,
     "metadata": {},
     "output_type": "execute_result"
    }
   ],
   "source": [
    "response = requests.delete('http://localhost:8001/plugins/6aab662b-5c79-4dcc-8f75-b26425ca391e')\n",
    "response"
   ]
  },
  {
   "cell_type": "markdown",
   "metadata": {},
   "source": [
    "# A vous de jouer "
   ]
  },
  {
   "cell_type": "markdown",
   "metadata": {},
   "source": [
    "1. Réaliser les mêmes opérations pour votre API.\n",
    "2. Créer un fichier de provision vous permettant d'exécuter ces commandes facilement pour la configuration de votre application."
   ]
  },
  {
   "cell_type": "markdown",
   "metadata": {},
   "source": []
  },
  {
   "cell_type": "code",
   "execution_count": null,
   "metadata": {},
   "outputs": [],
   "source": []
  },
  {
   "cell_type": "code",
   "execution_count": null,
   "metadata": {},
   "outputs": [],
   "source": []
  },
  {
   "cell_type": "code",
   "execution_count": null,
   "metadata": {},
   "outputs": [],
   "source": []
  },
  {
   "cell_type": "code",
   "execution_count": null,
   "metadata": {},
   "outputs": [],
   "source": []
  },
  {
   "cell_type": "code",
   "execution_count": null,
   "metadata": {},
   "outputs": [],
   "source": []
  }
 ],
 "metadata": {
  "interpreter": {
   "hash": "aee8b7b246df8f9039afb4144a1f6fd8d2ca17a180786b69acc140d282b71a49"
  },
  "kernelspec": {
   "display_name": "Python 3.8.0 64-bit",
   "name": "python3"
  },
  "language_info": {
   "codemirror_mode": {
    "name": "ipython",
    "version": 3
   },
   "file_extension": ".py",
   "mimetype": "text/x-python",
   "name": "python",
   "nbconvert_exporter": "python",
   "pygments_lexer": "ipython3",
   "version": "3.8.0"
  }
 },
 "nbformat": 4,
 "nbformat_minor": 4
}
